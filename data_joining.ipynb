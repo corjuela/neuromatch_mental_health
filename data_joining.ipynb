{
 "cells": [
  {
   "cell_type": "code",
   "execution_count": 2,
   "metadata": {},
   "outputs": [],
   "source": [
    "import pandas as pd"
   ]
  },
  {
   "cell_type": "code",
   "execution_count": 3,
   "metadata": {},
   "outputs": [],
   "source": [
    "df1 = pd.read_csv(\"D:\\Downloads\\data1\\mental_health.csv\") #mental health corpus\n",
    "df2 = pd.read_csv(\"D:\\Downloads\\data2\\\\reddit_depression_suicidewatch.csv\") #kaggle dataset reddit datast\n",
    "df3 = pd.read_csv(\"D:\\Downloads\\data3\\Suicide_Detection.csv\") #Kaggle dataset on suicide detection\n",
    "df4 = pd.read_csv(\"D:\\Downloads\\data4\\depression_dataset_reddit_cleaned.csv\") #kaggle datast by infamous coder\n",
    "df5_train = pd.read_csv(\"D:\\Downloads/train.csv\") #github dataste on depression - training set\n",
    "df5_test = pd.read_csv(\"D:\\Downloads/test.csv\") #github dataset on depression - testing set\n",
    " "
   ]
  },
  {
   "cell_type": "code",
   "execution_count": 4,
   "metadata": {},
   "outputs": [
    {
     "name": "stdout",
     "output_type": "stream",
     "text": [
      "Columns in df1: ['text', 'label']\n",
      "Columns in df2: ['text', 'label']\n",
      "Columns in df3: ['Unnamed: 0', 'text', 'class']\n",
      "Columns in df4: ['clean_text', 'is_depression']\n",
      "Columns in df5: ['pid', 'text', 'labels']\n",
      "Columns in df6: ['pid', 'text', 'labels']\n"
     ]
    }
   ],
   "source": [
    "df_s = [df1, df2, df3, df4, df5_train,df5_test]\n",
    "for count,df in enumerate(df_s):\n",
    "    col_names = df.columns.to_list()   \n",
    "    print(f'Columns in df{count+1}: {col_names}')\n",
    "    "
   ]
  },
  {
   "cell_type": "code",
   "execution_count": 5,
   "metadata": {},
   "outputs": [],
   "source": [
    "#Rename the columns based on the output above \n",
    "df3.rename({'class':'label'},axis = 1, inplace = True)\n",
    "df4.rename({'clean_text':'text','is_depression':'label'},axis = 1, inplace= True)\n",
    "df5_train.rename({'labels':'label'},axis = 1,inplace = True)\n",
    "df5_test.rename({'labels':'label'},axis = 1,inplace = True)"
   ]
  },
  {
   "cell_type": "code",
   "execution_count": 6,
   "metadata": {},
   "outputs": [
    {
     "data": {
      "text/html": [
       "<div>\n",
       "<style scoped>\n",
       "    .dataframe tbody tr th:only-of-type {\n",
       "        vertical-align: middle;\n",
       "    }\n",
       "\n",
       "    .dataframe tbody tr th {\n",
       "        vertical-align: top;\n",
       "    }\n",
       "\n",
       "    .dataframe thead th {\n",
       "        text-align: right;\n",
       "    }\n",
       "</style>\n",
       "<table border=\"1\" class=\"dataframe\">\n",
       "  <thead>\n",
       "    <tr style=\"text-align: right;\">\n",
       "      <th></th>\n",
       "      <th>Unnamed: 0</th>\n",
       "      <th>text</th>\n",
       "      <th>label</th>\n",
       "    </tr>\n",
       "  </thead>\n",
       "  <tbody>\n",
       "    <tr>\n",
       "      <th>38013</th>\n",
       "      <td>57038</td>\n",
       "      <td>A message for all of the white girls in this s...</td>\n",
       "      <td>non-suicide</td>\n",
       "    </tr>\n",
       "    <tr>\n",
       "      <th>41995</th>\n",
       "      <td>62960</td>\n",
       "      <td>I failed NNN I failed cause I found out that m...</td>\n",
       "      <td>non-suicide</td>\n",
       "    </tr>\n",
       "    <tr>\n",
       "      <th>132446</th>\n",
       "      <td>198929</td>\n",
       "      <td>Losing the love of my lifeHi guys,\\n\\n\\nThis i...</td>\n",
       "      <td>suicide</td>\n",
       "    </tr>\n",
       "    <tr>\n",
       "      <th>3305</th>\n",
       "      <td>4895</td>\n",
       "      <td>My doctor diagnosed me with depression and I d...</td>\n",
       "      <td>suicide</td>\n",
       "    </tr>\n",
       "    <tr>\n",
       "      <th>59848</th>\n",
       "      <td>89771</td>\n",
       "      <td>Wish I could go into 2018 not wanting to dieI'...</td>\n",
       "      <td>suicide</td>\n",
       "    </tr>\n",
       "    <tr>\n",
       "      <th>168506</th>\n",
       "      <td>252816</td>\n",
       "      <td>very, very scared and alone.  could use someon...</td>\n",
       "      <td>suicide</td>\n",
       "    </tr>\n",
       "    <tr>\n",
       "      <th>166015</th>\n",
       "      <td>249113</td>\n",
       "      <td>As cool as some people are, just chilling by m...</td>\n",
       "      <td>non-suicide</td>\n",
       "    </tr>\n",
       "    <tr>\n",
       "      <th>193751</th>\n",
       "      <td>290850</td>\n",
       "      <td>I have to get up EVERYDAY at 6:00 AM to log on...</td>\n",
       "      <td>non-suicide</td>\n",
       "    </tr>\n",
       "    <tr>\n",
       "      <th>72256</th>\n",
       "      <td>108480</td>\n",
       "      <td>Sometimes I feel like the only one that feels ...</td>\n",
       "      <td>non-suicide</td>\n",
       "    </tr>\n",
       "    <tr>\n",
       "      <th>9650</th>\n",
       "      <td>14490</td>\n",
       "      <td>What to do before killing yourselfSo I'm gonna...</td>\n",
       "      <td>suicide</td>\n",
       "    </tr>\n",
       "  </tbody>\n",
       "</table>\n",
       "</div>"
      ],
      "text/plain": [
       "        Unnamed: 0                                               text  \\\n",
       "38013        57038  A message for all of the white girls in this s...   \n",
       "41995        62960  I failed NNN I failed cause I found out that m...   \n",
       "132446      198929  Losing the love of my lifeHi guys,\\n\\n\\nThis i...   \n",
       "3305          4895  My doctor diagnosed me with depression and I d...   \n",
       "59848        89771  Wish I could go into 2018 not wanting to dieI'...   \n",
       "168506      252816  very, very scared and alone.  could use someon...   \n",
       "166015      249113  As cool as some people are, just chilling by m...   \n",
       "193751      290850  I have to get up EVERYDAY at 6:00 AM to log on...   \n",
       "72256       108480  Sometimes I feel like the only one that feels ...   \n",
       "9650         14490  What to do before killing yourselfSo I'm gonna...   \n",
       "\n",
       "              label  \n",
       "38013   non-suicide  \n",
       "41995   non-suicide  \n",
       "132446      suicide  \n",
       "3305        suicide  \n",
       "59848       suicide  \n",
       "168506      suicide  \n",
       "166015  non-suicide  \n",
       "193751  non-suicide  \n",
       "72256   non-suicide  \n",
       "9650        suicide  "
      ]
     },
     "execution_count": 6,
     "metadata": {},
     "output_type": "execute_result"
    }
   ],
   "source": [
    "#Need to check df3 for what Unnamed: 0 is, and df5_train/test to see if we can just drop pid (my guess is yes)\n",
    "df3.sample(10)"
   ]
  },
  {
   "cell_type": "code",
   "execution_count": 7,
   "metadata": {},
   "outputs": [
    {
     "data": {
      "text/html": [
       "<div>\n",
       "<style scoped>\n",
       "    .dataframe tbody tr th:only-of-type {\n",
       "        vertical-align: middle;\n",
       "    }\n",
       "\n",
       "    .dataframe tbody tr th {\n",
       "        vertical-align: top;\n",
       "    }\n",
       "\n",
       "    .dataframe thead th {\n",
       "        text-align: right;\n",
       "    }\n",
       "</style>\n",
       "<table border=\"1\" class=\"dataframe\">\n",
       "  <thead>\n",
       "    <tr style=\"text-align: right;\">\n",
       "      <th></th>\n",
       "      <th>pid</th>\n",
       "      <th>text</th>\n",
       "      <th>label</th>\n",
       "    </tr>\n",
       "  </thead>\n",
       "  <tbody>\n",
       "    <tr>\n",
       "      <th>0</th>\n",
       "      <td>train_pid_7991</td>\n",
       "      <td>At this point just genuinely curious what sort...</td>\n",
       "      <td>0</td>\n",
       "    </tr>\n",
       "    <tr>\n",
       "      <th>1</th>\n",
       "      <td>train_pid_7992</td>\n",
       "      <td>I have literally tried everything.... : I'm st...</td>\n",
       "      <td>0</td>\n",
       "    </tr>\n",
       "    <tr>\n",
       "      <th>2</th>\n",
       "      <td>train_pid_7995</td>\n",
       "      <td>I'm really struggling : So I don't know how to...</td>\n",
       "      <td>0</td>\n",
       "    </tr>\n",
       "    <tr>\n",
       "      <th>3</th>\n",
       "      <td>train_pid_7996</td>\n",
       "      <td>My meds aren’t making my depression any better...</td>\n",
       "      <td>0</td>\n",
       "    </tr>\n",
       "    <tr>\n",
       "      <th>4</th>\n",
       "      <td>train_pid_7997</td>\n",
       "      <td>Hi I'm unwell : I'm 21 now, \"vice ridden\", and...</td>\n",
       "      <td>0</td>\n",
       "    </tr>\n",
       "    <tr>\n",
       "      <th>5</th>\n",
       "      <td>train_pid_7998</td>\n",
       "      <td>I'm not alone, and I feel it : Im going into 2...</td>\n",
       "      <td>0</td>\n",
       "    </tr>\n",
       "    <tr>\n",
       "      <th>6</th>\n",
       "      <td>train_pid_7999</td>\n",
       "      <td>Help. : I'm 24 and I'm useless, I have studies...</td>\n",
       "      <td>0</td>\n",
       "    </tr>\n",
       "    <tr>\n",
       "      <th>7</th>\n",
       "      <td>train_pid_8000</td>\n",
       "      <td>I feel like shit : I feel like shit. I've crie...</td>\n",
       "      <td>0</td>\n",
       "    </tr>\n",
       "    <tr>\n",
       "      <th>8</th>\n",
       "      <td>train_pid_8004</td>\n",
       "      <td>If I only had access to firearms. : I mean bei...</td>\n",
       "      <td>0</td>\n",
       "    </tr>\n",
       "    <tr>\n",
       "      <th>9</th>\n",
       "      <td>train_pid_8010</td>\n",
       "      <td>I think I want to kill myself. : I've been liv...</td>\n",
       "      <td>0</td>\n",
       "    </tr>\n",
       "  </tbody>\n",
       "</table>\n",
       "</div>"
      ],
      "text/plain": [
       "              pid                                               text  label\n",
       "0  train_pid_7991  At this point just genuinely curious what sort...      0\n",
       "1  train_pid_7992  I have literally tried everything.... : I'm st...      0\n",
       "2  train_pid_7995  I'm really struggling : So I don't know how to...      0\n",
       "3  train_pid_7996  My meds aren’t making my depression any better...      0\n",
       "4  train_pid_7997  Hi I'm unwell : I'm 21 now, \"vice ridden\", and...      0\n",
       "5  train_pid_7998  I'm not alone, and I feel it : Im going into 2...      0\n",
       "6  train_pid_7999  Help. : I'm 24 and I'm useless, I have studies...      0\n",
       "7  train_pid_8000  I feel like shit : I feel like shit. I've crie...      0\n",
       "8  train_pid_8004  If I only had access to firearms. : I mean bei...      0\n",
       "9  train_pid_8010  I think I want to kill myself. : I've been liv...      0"
      ]
     },
     "execution_count": 7,
     "metadata": {},
     "output_type": "execute_result"
    }
   ],
   "source": [
    "df5_train.head(10)"
   ]
  },
  {
   "cell_type": "code",
   "execution_count": 8,
   "metadata": {},
   "outputs": [
    {
     "data": {
      "text/html": [
       "<div>\n",
       "<style scoped>\n",
       "    .dataframe tbody tr th:only-of-type {\n",
       "        vertical-align: middle;\n",
       "    }\n",
       "\n",
       "    .dataframe tbody tr th {\n",
       "        vertical-align: top;\n",
       "    }\n",
       "\n",
       "    .dataframe thead th {\n",
       "        text-align: right;\n",
       "    }\n",
       "</style>\n",
       "<table border=\"1\" class=\"dataframe\">\n",
       "  <thead>\n",
       "    <tr style=\"text-align: right;\">\n",
       "      <th></th>\n",
       "      <th>pid</th>\n",
       "      <th>text</th>\n",
       "      <th>label</th>\n",
       "    </tr>\n",
       "  </thead>\n",
       "  <tbody>\n",
       "    <tr>\n",
       "      <th>0</th>\n",
       "      <td>test_pid_1</td>\n",
       "      <td>Im scared : This is it. I lie to myself every ...</td>\n",
       "      <td>1</td>\n",
       "    </tr>\n",
       "    <tr>\n",
       "      <th>1</th>\n",
       "      <td>test_pid_2</td>\n",
       "      <td>New to this but just wanted to vent : I just f...</td>\n",
       "      <td>1</td>\n",
       "    </tr>\n",
       "    <tr>\n",
       "      <th>2</th>\n",
       "      <td>test_pid_3</td>\n",
       "      <td>I’m sad : It’s kinda always been an issue. I w...</td>\n",
       "      <td>1</td>\n",
       "    </tr>\n",
       "    <tr>\n",
       "      <th>3</th>\n",
       "      <td>test_pid_4</td>\n",
       "      <td>Lonely but not alone. : All of my immediately ...</td>\n",
       "      <td>1</td>\n",
       "    </tr>\n",
       "    <tr>\n",
       "      <th>4</th>\n",
       "      <td>test_pid_5</td>\n",
       "      <td>This year has been trash. : I dont know why I’...</td>\n",
       "      <td>1</td>\n",
       "    </tr>\n",
       "    <tr>\n",
       "      <th>5</th>\n",
       "      <td>test_pid_6</td>\n",
       "      <td>Needed to yell into the void : I'm a pos. I'm ...</td>\n",
       "      <td>1</td>\n",
       "    </tr>\n",
       "    <tr>\n",
       "      <th>6</th>\n",
       "      <td>test_pid_7</td>\n",
       "      <td>I don’t know why I’m here anymore : I feel lik...</td>\n",
       "      <td>1</td>\n",
       "    </tr>\n",
       "    <tr>\n",
       "      <th>7</th>\n",
       "      <td>test_pid_8</td>\n",
       "      <td>i dont want to be here anymore : i dont wanna ...</td>\n",
       "      <td>1</td>\n",
       "    </tr>\n",
       "    <tr>\n",
       "      <th>8</th>\n",
       "      <td>test_pid_9</td>\n",
       "      <td>Antidepressants : Do antidepressants help if y...</td>\n",
       "      <td>1</td>\n",
       "    </tr>\n",
       "    <tr>\n",
       "      <th>9</th>\n",
       "      <td>test_pid_10</td>\n",
       "      <td>TMS : My doctor wants me to do TMS for my depr...</td>\n",
       "      <td>1</td>\n",
       "    </tr>\n",
       "  </tbody>\n",
       "</table>\n",
       "</div>"
      ],
      "text/plain": [
       "           pid                                               text  label\n",
       "0   test_pid_1  Im scared : This is it. I lie to myself every ...      1\n",
       "1   test_pid_2  New to this but just wanted to vent : I just f...      1\n",
       "2   test_pid_3  I’m sad : It’s kinda always been an issue. I w...      1\n",
       "3   test_pid_4  Lonely but not alone. : All of my immediately ...      1\n",
       "4   test_pid_5  This year has been trash. : I dont know why I’...      1\n",
       "5   test_pid_6  Needed to yell into the void : I'm a pos. I'm ...      1\n",
       "6   test_pid_7  I don’t know why I’m here anymore : I feel lik...      1\n",
       "7   test_pid_8  i dont want to be here anymore : i dont wanna ...      1\n",
       "8   test_pid_9  Antidepressants : Do antidepressants help if y...      1\n",
       "9  test_pid_10  TMS : My doctor wants me to do TMS for my depr...      1"
      ]
     },
     "execution_count": 8,
     "metadata": {},
     "output_type": "execute_result"
    }
   ],
   "source": [
    "df5_test.head(10)"
   ]
  },
  {
   "cell_type": "code",
   "execution_count": 9,
   "metadata": {},
   "outputs": [],
   "source": [
    "df3.drop('Unnamed: 0',axis = 1, inplace = True)\n",
    "df5_test.drop('pid',axis =1, inplace = True)\n",
    "df5_train.drop('pid',axis =1 , inplace = True)"
   ]
  },
  {
   "cell_type": "code",
   "execution_count": 10,
   "metadata": {},
   "outputs": [
    {
     "name": "stdout",
     "output_type": "stream",
     "text": [
      "Columns in df1: ['text', 'label']\n",
      "Columns in df2: ['text', 'label']\n",
      "Columns in df3: ['text', 'label']\n",
      "Columns in df4: ['text', 'label']\n",
      "Columns in df5: ['text', 'label']\n",
      "Columns in df6: ['text', 'label']\n"
     ]
    }
   ],
   "source": [
    "df_s = [df1, df2, df3, df4, df5_train,df5_test]\n",
    "for count,df in enumerate(df_s):\n",
    "    col_names = df.columns.to_list()   \n",
    "    print(f'Columns in df{count+1}: {col_names}')\n",
    "    "
   ]
  },
  {
   "cell_type": "code",
   "execution_count": 34,
   "metadata": {},
   "outputs": [],
   "source": [
    "df = pd.concat([df1,df2,df3,df4,df5_train,df5_test])#.reset_index().drop('index',axis = 1)"
   ]
  },
  {
   "cell_type": "code",
   "execution_count": 35,
   "metadata": {},
   "outputs": [
    {
     "data": {
      "text/plain": [
       "array([0, 1, 'depression', 'SuicideWatch', 'suicide', 'non-suicide', 2],\n",
       "      dtype=object)"
      ]
     },
     "execution_count": 35,
     "metadata": {},
     "output_type": "execute_result"
    }
   ],
   "source": [
    "df.label.unique()"
   ]
  },
  {
   "cell_type": "code",
   "execution_count": 36,
   "metadata": {},
   "outputs": [],
   "source": [
    "df.label.replace(['depression','SuicideWatch','suicide','non-suicide',2],1,inplace = True)\n",
    "df.label.unique()"
   ]
  },
  {
   "cell_type": "code",
   "execution_count": 38,
   "metadata": {},
   "outputs": [
    {
     "data": {
      "text/plain": [
       "132"
      ]
     },
     "execution_count": 38,
     "metadata": {},
     "output_type": "execute_result"
    }
   ],
   "source": [
    "df.text.duplicated().sum()"
   ]
  },
  {
   "cell_type": "code",
   "execution_count": 40,
   "metadata": {},
   "outputs": [],
   "source": [
    "df = df.drop_duplicates(subset = 'text').reset_index().drop('index',axis =1 )"
   ]
  },
  {
   "cell_type": "code",
   "execution_count": 42,
   "metadata": {},
   "outputs": [],
   "source": [
    "df.to_csv('joined_dataset.csv')"
   ]
  },
  {
   "cell_type": "code",
   "execution_count": null,
   "metadata": {},
   "outputs": [],
   "source": []
  }
 ],
 "metadata": {
  "kernelspec": {
   "display_name": "neural_analysis",
   "language": "python",
   "name": "python3"
  },
  "language_info": {
   "codemirror_mode": {
    "name": "ipython",
    "version": 3
   },
   "file_extension": ".py",
   "mimetype": "text/x-python",
   "name": "python",
   "nbconvert_exporter": "python",
   "pygments_lexer": "ipython3",
   "version": "3.9.6"
  },
  "orig_nbformat": 4
 },
 "nbformat": 4,
 "nbformat_minor": 2
}
