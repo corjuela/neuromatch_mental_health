{
 "cells": [
  {
   "cell_type": "markdown",
   "metadata": {},
   "source": [
    "# TODO:\n",
    "* Are the outputs the actual labels or just the loss (and if so, how do we specify the loss type)\n",
    "* Turn data into tensor prior to making datasets\n",
    "* Do we need to add beginning / end tokens to each text sample?"
   ]
  },
  {
   "cell_type": "code",
   "execution_count": 2,
   "metadata": {},
   "outputs": [
    {
     "name": "stderr",
     "output_type": "stream",
     "text": [
      "/Users/Gerardo/.virtualenvs/neuro_match/lib/python3.9/site-packages/tqdm/auto.py:21: TqdmWarning: IProgress not found. Please update jupyter and ipywidgets. See https://ipywidgets.readthedocs.io/en/stable/user_install.html\n",
      "  from .autonotebook import tqdm as notebook_tqdm\n"
     ]
    }
   ],
   "source": [
    "import pandas as pd\n",
    "import numpy as np\n",
    "import torch\n",
    "from pytorch_pretrained_bert import BertForTokenClassification\n",
    "\n",
    "from transformers import BertTokenizer\n",
    "from torch.optim import SGD\n",
    "from torch.nn import CrossEntropyLoss\n",
    "from torch.utils.data import DataLoader, TensorDataset\n",
    "\n",
    "from sklearn.model_selection import train_test_split\n",
    "\n",
    "import matplotlib.pyplot as plt\n",
    "\n",
    "import random"
   ]
  },
  {
   "cell_type": "code",
   "execution_count": 3,
   "metadata": {},
   "outputs": [
    {
     "data": {
      "text/plain": [
       "<torch._C.Generator at 0x10c40c430>"
      ]
     },
     "execution_count": 3,
     "metadata": {},
     "output_type": "execute_result"
    }
   ],
   "source": [
    "seed = 31\n",
    "\n",
    "## Set the random seeds for Python and Torch\n",
    "random.seed(seed)\n",
    "np.random.seed(seed)\n",
    "\n",
    "torch.manual_seed(seed)\n",
    "torch.cuda.manual_seed_all(seed)\n",
    "torch.cuda.manual_seed(seed)\n",
    "\n",
    "def seed_worker(worker_id): #function to initalize the seeds for the workers of DataLoader\n",
    "    worker_seed = torch.initial_seed() %2 ** 32\n",
    "    np.random.seed(worker_seed)\n",
    "    random.seed(worker_seed)\n",
    "\n",
    "g_seed = torch.Generator()\n",
    "g_seed.manual_seed(seed)"
   ]
  },
  {
   "cell_type": "code",
   "execution_count": 4,
   "metadata": {},
   "outputs": [
    {
     "name": "stdout",
     "output_type": "stream",
     "text": [
      "Number of samples with more than 512 white spaces: 0\n"
     ]
    },
    {
     "data": {
      "text/plain": [
       "Text(0.5, 0, 'Number of White Spaces')"
      ]
     },
     "execution_count": 4,
     "metadata": {},
     "output_type": "execute_result"
    },
    {
     "data": {
      "image/png": "[encoded data removed]",
      "text/plain": [
       "<Figure size 640x480 with 1 Axes>"
      ]
     },
     "metadata": {},
     "output_type": "display_data"
    }
   ],
   "source": [
    "df = pd.read_csv('data/cleandata.csv') #load dataset\n",
    "df.dropna(inplace = True) #drop nans (4 samples)\n",
    "\n",
    "# Look at the distribution \n",
    "df['string_lengths'] = df['text'].apply(lambda x : len(x.split(' ')))\n",
    "print(f'Number of samples with more than 512 white spaces: {df[df[\"string_lengths\"] > 512].shape[0]}')\n",
    "plt.hist(df['string_lengths'],np.arange(0,1000,5)); plt.title('Distribution of white spaces quantity'); plt.xlabel('Number of White Spaces')"
   ]
  },
  {
   "cell_type": "code",
   "execution_count": 101,
   "metadata": {},
   "outputs": [],
   "source": [
    "def tokenize(row,my_token):\n",
    "    try:\n",
    "       return torch.tensor(my_token.encode_plus(row)['input_ids'])\n",
    "    except:\n",
    "        with open('bad_file.txt','a') as fid:\n",
    "            fid.write(str(row.name) + '\\n')\n",
    "            "
   ]
  },
  {
   "cell_type": "code",
   "execution_count": null,
   "metadata": {},
   "outputs": [],
   "source": [
    "#Instantiate BERT Tokenizer and transform strings to tensors\n",
    "\n",
    "my_token = BertTokenizer.from_pretrained(\"bert-base-cased\")\n",
    "X_train_token = X_train.apply(lambda x : tokenize(x,my_token))\n",
    "X_test_token = X_test.apply(lambda x : tokenize(x,my_token))"
   ]
  },
  {
   "cell_type": "code",
   "execution_count": 15,
   "metadata": {},
   "outputs": [
    {
     "data": {
      "text/plain": [
       "7555      fuck dude took two aps year psych world want g...\n",
       "121508    loseshey over the past few months ive lost thi...\n",
       "182912    my girlfriend broke up with me i feel like shi...\n",
       "88150     im just here like everyone elsethe title is aw...\n",
       "214884    im screaming it out but no one is listeningi f...\n",
       "187931    its gotten to the point i cant take it my moms...\n",
       "259487    help filler filler filler screw you bot filler...\n",
       "202635    i really dont want to go to cello lessons toni...\n",
       "238734    i just failed an attempt and im not sure im al...\n",
       "123339    so fucking scared like being raped all over ag...\n",
       "Name: text, dtype: object"
      ]
     },
     "execution_count": 15,
     "metadata": {},
     "output_type": "execute_result"
    }
   ],
   "source": [
    "X_train.head(10)"
   ]
  },
  {
   "cell_type": "code",
   "execution_count": 55,
   "metadata": {},
   "outputs": [],
   "source": [
    "#Define Hyperparameters\n",
    "batch_size = 128\n",
    "lr = 0.01"
   ]
  },
  {
   "cell_type": "code",
   "execution_count": null,
   "metadata": {},
   "outputs": [],
   "source": [
    "test_data = TensorDataset(X_test,y_test)\n",
    "train_data = TensorDataset(X_train, y_train)\n",
    "\n",
    "test_loader = DataLoader(test_data,batch_size = batch_size , shuffle = False, num_workers = 0, worker_init_fn = seed_worker, generator = g_seed)\n",
    "train_loader = DataLoader(train_data,batch_size = batch_size , drop_last = True, shuffle = True, worker_init_fn = seed_worker, generator = g_seed)"
   ]
  },
  {
   "cell_type": "code",
   "execution_count": 19,
   "metadata": {},
   "outputs": [],
   "source": [
    "\n"
   ]
  },
  {
   "cell_type": "code",
   "execution_count": null,
   "metadata": {},
   "outputs": [],
   "source": [
    "model = BertForTokenClassification.from_pretrained('bert-base-uncased', num_labels = 2) ##Loading a pre-trained BERT model\n",
    "my_optim = SGD(model.parameters(), lr=lr)\n",
    "my_loss = CrossEntropyLoss() #we might not need this, since the link in the word docuemt says that running the model returns a loss\n",
    "\n",
    "model.train() #set the model to train mode\n"
   ]
  },
  {
   "cell_type": "code",
   "execution_count": null,
   "metadata": {},
   "outputs": [],
   "source": [
    "my_optim.zero_grad()\n",
    "\n",
    "y_pred,something_else = model(X_train)\n",
    "\n",
    "my_loss(y_pred,y_train)\n",
    "\n",
    "my_loss.backward()\n",
    "my_optim.step()\n",
    "\n"
   ]
  }
 ],
 "metadata": {
  "kernelspec": {
   "display_name": "neuro_match",
   "language": "python",
   "name": "python3"
  },
  "language_info": {
   "codemirror_mode": {
    "name": "ipython",
    "version": 3
   },
   "file_extension": ".py",
   "mimetype": "text/x-python",
   "name": "python",
   "nbconvert_exporter": "python",
   "pygments_lexer": "ipython3",
   "version": "3.9.10"
  },
  "orig_nbformat": 4
 },
 "nbformat": 4,
 "nbformat_minor": 2
}
