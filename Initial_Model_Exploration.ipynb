{
 "cells": [
  {
   "cell_type": "markdown",
   "metadata": {},
   "source": [
    "# TODO:\n",
    "* Check seed worker reference  because the parameter is currently not being used\n",
    "* Incorporate learning scheduler \n",
    "* Incorporate better optimizer"
   ]
  },
  {
   "cell_type": "code",
   "execution_count": 5,
   "metadata": {},
   "outputs": [],
   "source": [
    "import pandas as pd\n",
    "import numpy as np\n",
    "import torch\n",
    "from pytorch_pretrained_bert import BertForSequenceClassification\n",
    "\n",
    "from transformers import BertTokenizer\n",
    "from torch.optim import SGD\n",
    "from torch.utils.data import DataLoader, TensorDataset, random_split, RandomSampler\n",
    "\n",
    "import matplotlib.pyplot as plt\n",
    "\n",
    "import random\n",
    "\n",
    "import time\n",
    "import os"
   ]
  },
  {
   "cell_type": "code",
   "execution_count": 6,
   "metadata": {},
   "outputs": [
    {
     "data": {
      "text/plain": [
       "<torch._C.Generator at 0x1080eee50>"
      ]
     },
     "execution_count": 6,
     "metadata": {},
     "output_type": "execute_result"
    }
   ],
   "source": [
    "seed = 31\n",
    "\n",
    "## Set the random seeds for Python and Torch\n",
    "random.seed(seed)\n",
    "np.random.seed(seed)\n",
    "\n",
    "torch.manual_seed(seed)\n",
    "torch.cuda.manual_seed_all(seed)\n",
    "torch.cuda.manual_seed(seed)\n",
    "\n",
    "def seed_worker(worker_id): #function to initalize the seeds for the workers of DataLoader\n",
    "    worker_seed = torch.initial_seed() %2 ** 32\n",
    "    np.random.seed(worker_seed)\n",
    "    random.seed(worker_seed)\n",
    "\n",
    "g_seed = torch.Generator()\n",
    "g_seed.manual_seed(seed)"
   ]
  },
  {
   "cell_type": "code",
   "execution_count": 7,
   "metadata": {},
   "outputs": [],
   "source": [
    "my_tokenizer = BertTokenizer.from_pretrained(\"bert-base-cased\") #load pre-trained tokenizer"
   ]
  },
  {
   "cell_type": "code",
   "execution_count": 8,
   "metadata": {},
   "outputs": [],
   "source": [
    "#Tokenize, pad, and tensorize the features\n",
    "#the apply returns a series of dictionaries, so we turn into a list -> DataFrame so that we can \n",
    "#store everything together efficiently\n",
    "def process_data_frame(input_df):\n",
    "    \"\"\"Process DataFrame to format required for Pytorch\n",
    "\n",
    "    Args:\n",
    "        input_df (pandas.DataFrame): DataFrame read from csv\n",
    "\n",
    "    Returns:\n",
    "        pd.DataFrame: DataFrame with tensor data\n",
    "    \"\"\"\n",
    "    tensor_df = pd.DataFrame(list(input_df['text'].apply(lambda x: my_tokenizer(x,truncation = True, \n",
    "                                                           max_length = 512, \n",
    "                                                           add_special_tokens= True,\n",
    "                                                           padding = 'max_length',\n",
    "                                                           return_tensors = 'pt',\n",
    "                                                           return_attention_mask = True))))\n",
    "    tensor_df['label'] = torch.tensor(input_df['label'].values) #tensorize labels\n",
    "    \n",
    "    return tensor_df\n",
    "\n",
    "#Turn the pandas dataframes into lists then tensors as shown in https://mccormickml.com/2019/07/22/BERT-fine-tuning/#31-bert-tokenizer\n",
    "def custom_train_test_split(df,features = 'input_ids',target = 'label',attention = 'attention_mask' ,test_size = 0.2):\n",
    "    \"\"\"Return two dataset objects of training and testing samples respectively\n",
    "\n",
    "    Args:\n",
    "        df (pandas.DataFrame): DataFrame containing all the relevant columns \n",
    "        features (str, optional): DataFrame column correspondign to the feature components. Defaults to 'input_ids'.\n",
    "        target (str, optional): DataFrame column corresponding to the label/target . Defaults to 'label'.\n",
    "        attention (str, optional): DataFrame column corresponding to the attention tokens. Defaults to 'attention_mask'.\n",
    "        test_size (float, optional): Percent size assigned to testing. Defaults to 0.2.\n",
    "\n",
    "    Returns:\n",
    "        tuple: Training and testing dataset objects respectively\n",
    "    \"\"\"\n",
    "    \n",
    "    \n",
    "    #Turn DataFrame into tensor objects and then into a dataset\n",
    "    X_label = torch.cat(df[features].to_list(),dim = 0)\n",
    "    X_attention = torch.cat(df[attention].to_list(),dim = 0)\n",
    "    y = torch.tensor(df[target].to_list())\n",
    "    dataset = TensorDataset(X_label,X_attention,y)\n",
    "    \n",
    "    #Split into training and testing datasets\n",
    "    num_samps = df.shape[0]\n",
    "    num_test = int(num_samps*test_size)\n",
    "    num_train = num_samps - num_test\n",
    "    \n",
    "    train_data, test_data = random_split(dataset,[num_train,num_test])\n",
    "    \n",
    "    return train_data,test_data"
   ]
  },
  {
   "cell_type": "code",
   "execution_count": 9,
   "metadata": {},
   "outputs": [],
   "source": [
    "if not os.path.isfile('data/modeling_data.zip'): #if the data has not been processed into tensors, read from csv and process\n",
    "    df = pd.read_csv('data/cleandata.zip') #load dataset\n",
    "    df.dropna(inplace = True) #drop nans (4 samples)\n",
    "    \n",
    "    df = process_data_frame(df)\n",
    "    df.to_pickle('data/modeling_data.zip')\n",
    "else: #read from pickle object if it has already been processed\n",
    "    df = pd.read_pickle('data/modeling_data.zip')"
   ]
  },
  {
   "cell_type": "code",
   "execution_count": 10,
   "metadata": {},
   "outputs": [],
   "source": [
    "train_dataset, test_dataset = custom_train_test_split(df)"
   ]
  },
  {
   "cell_type": "code",
   "execution_count": 11,
   "metadata": {},
   "outputs": [],
   "source": [
    "#Define Hyperparameters\n",
    "batch_size = 1\n",
    "lr = 0.01\n",
    "epochs = 100"
   ]
  },
  {
   "cell_type": "code",
   "execution_count": 12,
   "metadata": {},
   "outputs": [],
   "source": [
    "test_loader = DataLoader(test_dataset,batch_size = batch_size , shuffle = False, num_workers = 0, worker_init_fn = seed_worker, generator = g_seed)\n",
    "train_loader = DataLoader(train_dataset,batch_size = batch_size , drop_last = True, shuffle = True, worker_init_fn = seed_worker, generator = g_seed)"
   ]
  },
  {
   "cell_type": "code",
   "execution_count": null,
   "metadata": {},
   "outputs": [],
   "source": [
    "this_model = BertForSequenceClassification.from_pretrained('bert-base-uncased', num_labels = 2)\n",
    "this_model.train() #set the model to train mode\n",
    "                                                   \n",
    "my_optim = SGD(this_model.parameters(), lr=lr)"
   ]
  },
  {
   "cell_type": "code",
   "execution_count": 53,
   "metadata": {},
   "outputs": [
    {
     "name": "stdout",
     "output_type": "stream",
     "text": [
      "tensor(0.9050, grad_fn=<NllLossBackward0>)\n"
     ]
    }
   ],
   "source": [
    "#Test that this work on a single batch\n",
    "batch = next(iter(train_loader))\n",
    "features = batch[0]\n",
    "attention = batch[1]\n",
    "labels = batch[2]\n",
    "\n",
    "loss = this_model(features,token_type_ids = None ,attention_mask = attention, labels = labels)\n",
    "this_model.eval()\n",
    "print(loss)"
   ]
  },
  {
   "cell_type": "code",
   "execution_count": null,
   "metadata": {},
   "outputs": [],
   "source": [
    "def train_loop(model,optimizer,train_dataset,test_dataset,epochs,device):  \n",
    "    model.to(device)\n",
    "    \n",
    "    t0 = time.time()\n",
    "    print(f'Begin model Training. Total training batches: {len(train_dataset)}\\n \\n -------')\n",
    "    \n",
    "    \n",
    "    for ep in range(epochs): #iterate the desired epochs\n",
    "        train_loss,eval_loss = 0 ,0\n",
    "        \n",
    "        #Perform training of the model\n",
    "        model.train()\n",
    "        for iter,batch in enumerate(train_dataset): #iterate through all batches\n",
    "            \n",
    "            feature = batch[0].to(device) #extract relevant values and move to device\n",
    "            attention = batch[1].to(device)\n",
    "            label = batch[2].to(device)\n",
    "            \n",
    "            optimizer.zero_grad() #zero the gradients\n",
    "            loss = model(feature,token_type_ids = None, attention_mask = attention, labels = label)\n",
    "            \n",
    "            train_loss += loss #calculate epoch loss\n",
    "            \n",
    "            loss.backward()\n",
    "            optimizer.step()\n",
    "            \n",
    "            if iter % 10 == 0 and not iter ==0: #update output every 10 batches\n",
    "                elapsed_t = round(time.time() - t0,2)\n",
    "                print(f'Batch {iter} done in {elapsed_t} seconds. Training loss: {train_loss}')\n",
    "        \n",
    "        #Perform validation of the model\n",
    "        model.eval()\n",
    "        for batch in enumerate(test_dataset):\n",
    "            \n",
    "            feature = batch[0].to(device) #extract relevant values and move to device\n",
    "            attention = batch[1].to(device)\n",
    "            label = batch[2].to(device)\n",
    "            \n",
    "            with torch.no_grad():\n",
    "                loss = model(feature,token_type_ids = None, attention_mask = attention, labels = label)\n",
    "            \n",
    "            eval_loss += loss\n",
    "                   \n",
    "        print(f'epoch {ep} done. Total training loss: {train_loss}, Total validation loss: {eval_loss}')\n",
    "        print(f'Averaged across batches: Training loss: {train_loss / len(train_dataset)}, Validation loss: {eval_loss / test_dataset} ')\n",
    "    "
   ]
  }
 ],
 "metadata": {
  "kernelspec": {
   "display_name": "neuro_match",
   "language": "python",
   "name": "python3"
  },
  "language_info": {
   "codemirror_mode": {
    "name": "ipython",
    "version": 3
   },
   "file_extension": ".py",
   "mimetype": "text/x-python",
   "name": "python",
   "nbconvert_exporter": "python",
   "pygments_lexer": "ipython3",
   "version": "3.9.10"
  },
  "orig_nbformat": 4
 },
 "nbformat": 4,
 "nbformat_minor": 2
}
