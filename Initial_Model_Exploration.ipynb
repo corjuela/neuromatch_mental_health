{
 "cells": [
  {
   "cell_type": "markdown",
   "metadata": {},
   "source": [
    "# TODO:\n",
    "* Check seed worker reference  because the parameter is currently not being used\n",
    "* Incorporate learning scheduler \n",
    "* Incorporate better optimizer"
   ]
  },
  {
   "cell_type": "code",
   "execution_count": 1,
   "metadata": {},
   "outputs": [
    {
     "name": "stderr",
     "output_type": "stream",
     "text": [
      "/Users/Gerardo/.virtualenvs/neuro_match/lib/python3.9/site-packages/tqdm/auto.py:21: TqdmWarning: IProgress not found. Please update jupyter and ipywidgets. See https://ipywidgets.readthedocs.io/en/stable/user_install.html\n",
      "  from .autonotebook import tqdm as notebook_tqdm\n"
     ]
    }
   ],
   "source": [
    "import pandas as pd\n",
    "import numpy as np\n",
    "import torch\n",
    "from pytorch_pretrained_bert import BertForSequenceClassification\n",
    "\n",
    "from transformers import BertTokenizer\n",
    "from torch.optim import SGD\n",
    "from torch.utils.data import DataLoader, TensorDataset, random_split, RandomSampler\n",
    "\n",
    "import matplotlib.pyplot as plt\n",
    "\n",
    "import random\n",
    "\n",
    "import time\n",
    "import os"
   ]
  },
  {
   "cell_type": "code",
   "execution_count": 2,
   "metadata": {},
   "outputs": [
    {
     "data": {
      "text/plain": [
       "<torch._C.Generator at 0x10f0e4b30>"
      ]
     },
     "execution_count": 2,
     "metadata": {},
     "output_type": "execute_result"
    }
   ],
   "source": [
    "seed = 31\n",
    "\n",
    "## Set the random seeds for Python and Torch\n",
    "random.seed(seed)\n",
    "np.random.seed(seed)\n",
    "\n",
    "torch.manual_seed(seed)\n",
    "torch.cuda.manual_seed_all(seed)\n",
    "torch.cuda.manual_seed(seed)\n",
    "\n",
    "def seed_worker(worker_id): #function to initalize the seeds for the workers of DataLoader\n",
    "    worker_seed = torch.initial_seed() %2 ** 32\n",
    "    np.random.seed(worker_seed)\n",
    "    random.seed(worker_seed)\n",
    "\n",
    "g_seed = torch.Generator()\n",
    "g_seed.manual_seed(seed)"
   ]
  },
  {
   "cell_type": "code",
   "execution_count": 3,
   "metadata": {},
   "outputs": [],
   "source": [
    "my_tokenizer = BertTokenizer.from_pretrained(\"bert-base-cased\") #load pre-trained tokenizer"
   ]
  },
  {
   "cell_type": "code",
   "execution_count": 4,
   "metadata": {},
   "outputs": [],
   "source": [
    "#Tokenize, pad, and tensorize the features\n",
    "#the apply returns a series of dictionaries, so we turn into a list -> DataFrame so that we can \n",
    "#store everything together efficiently\n",
    "def process_data_frame(input_df):\n",
    "    \"\"\"Process DataFrame to format required for Pytorch\n",
    "\n",
    "    Args:\n",
    "        input_df (pandas.DataFrame): DataFrame read from csv\n",
    "\n",
    "    Returns:\n",
    "        pd.DataFrame: DataFrame with tensor data\n",
    "    \"\"\"\n",
    "    tensor_df = pd.DataFrame(list(input_df['text'].apply(lambda x: my_tokenizer(x,truncation = True, \n",
    "                                                           max_length = 512, \n",
    "                                                           add_special_tokens= True,\n",
    "                                                           padding = 'max_length',\n",
    "                                                           return_tensors = 'pt',\n",
    "                                                           return_attention_mask = True))))\n",
    "    tensor_df['label'] = torch.tensor(input_df['label'].values) #tensorize labels\n",
    "    \n",
    "    return tensor_df\n",
    "\n",
    "#Turn the pandas dataframes into lists then tensors as shown in https://mccormickml.com/2019/07/22/BERT-fine-tuning/#31-bert-tokenizer\n",
    "def custom_train_test_split(df,features = 'input_ids',target = 'label',attention = 'attention_mask' ,test_size = 0.2):\n",
    "    \"\"\"Return two dataset objects of training and testing samples respectively\n",
    "\n",
    "    Args:\n",
    "        df (pandas.DataFrame): DataFrame containing all the relevant columns \n",
    "        features (str, optional): DataFrame column correspondign to the feature components. Defaults to 'input_ids'.\n",
    "        target (str, optional): DataFrame column corresponding to the label/target . Defaults to 'label'.\n",
    "        attention (str, optional): DataFrame column corresponding to the attention tokens. Defaults to 'attention_mask'.\n",
    "        test_size (float, optional): Percent size assigned to testing. Defaults to 0.2.\n",
    "\n",
    "    Returns:\n",
    "        tuple: Training and testing dataset objects respectively\n",
    "    \"\"\"\n",
    "    \n",
    "    \n",
    "    #Turn DataFrame into tensor objects and then into a dataset\n",
    "    X_label = torch.cat(df[features].to_list(),dim = 0)\n",
    "    X_attention = torch.cat(df[attention].to_list(),dim = 0)\n",
    "    y = torch.tensor(df[target].to_list())\n",
    "    dataset = TensorDataset(X_label,X_attention,y)\n",
    "    \n",
    "    #Split into training and testing datasets\n",
    "    num_samps = df.shape[0]\n",
    "    num_test = int(num_samps*test_size)\n",
    "    num_train = num_samps - num_test\n",
    "    \n",
    "    train_data, test_data = random_split(dataset,[num_train,num_test])\n",
    "    \n",
    "    return train_data,test_data"
   ]
  },
  {
   "cell_type": "code",
   "execution_count": 5,
   "metadata": {},
   "outputs": [],
   "source": [
    "if not os.path.isfile('data/modeling_data.zip'): #if the data has not been processed into tensors, read from csv and process\n",
    "    df = pd.read_csv('data/cleandata.zip') #load dataset\n",
    "    df.dropna(inplace = True) #drop nans (4 samples)\n",
    "    \n",
    "    df = process_data_frame(df)\n",
    "    df.to_pickle('data/modeling_data.zip')\n",
    "else: #read from pickle object if it has already been processed\n",
    "    df = pd.read_pickle('data/modeling_data.zip')"
   ]
  },
  {
   "cell_type": "code",
   "execution_count": 6,
   "metadata": {},
   "outputs": [],
   "source": [
    "train_dataset, test_dataset = custom_train_test_split(df)"
   ]
  },
  {
   "cell_type": "code",
   "execution_count": 84,
   "metadata": {},
   "outputs": [],
   "source": [
    "#Define Hyperparameters\n",
    "batch_size = 1\n",
    "lr = 0.01\n",
    "epochs = 3"
   ]
  },
  {
   "cell_type": "code",
   "execution_count": 62,
   "metadata": {},
   "outputs": [],
   "source": [
    "test_loader = DataLoader(test_dataset,batch_size = batch_size , shuffle = False, num_workers = 0, worker_init_fn = seed_worker, generator = g_seed)\n",
    "train_loader = DataLoader(train_dataset,batch_size = batch_size , drop_last = True, shuffle = True, worker_init_fn = seed_worker, generator = g_seed)"
   ]
  },
  {
   "cell_type": "code",
   "execution_count": 63,
   "metadata": {},
   "outputs": [],
   "source": [
    "this_model = BertForSequenceClassification.from_pretrained('bert-base-uncased', num_labels = 2)\n",
    "this_optim = SGD(this_model.parameters(), lr=lr)"
   ]
  },
  {
   "cell_type": "code",
   "execution_count": 150,
   "metadata": {},
   "outputs": [],
   "source": [
    "def train_loop(model,optimizer,train_dataset,test_dataset,epochs,device,report_every_n_batches = 10,max_batch = np.nan): \n",
    "    \"\"\"Training loop for the model that outputs a loss\n",
    "\n",
    "    Args:\n",
    "        model (torch.model): Output of model has to be a loss, not labels\n",
    "        optimizer (torch.optimizer): Optimizer with the model parameters already fed in\n",
    "        train_dataset (torch.DataLoader) : Training dataset that has 3 outputs (features, attention, labels)\n",
    "        test_dataset (torch.DataLoader): Testing dataset that has 3 outputs (features, attention, labels)\n",
    "        epochs (int): Number of epochs to reiterate through batches\n",
    "        device (str): Device to load the data unto.\n",
    "        report_every_n_batches (int, optional): Number of epochs to update the loss everytime. Defaults to 10.\n",
    "        max_batch(int, optional): Max number of batches to asses. Defaults to np.nan.\n",
    "\n",
    "    Returns:\n",
    "        tuple: Training loss, Validation Loss lists\n",
    "    \"\"\"\n",
    "  \n",
    "    append = ''\n",
    "    if max_batch is not np.nan:\n",
    "        append  = f'. Only doing {max_batch} batches.'\n",
    "    print(f'Begin model Training. Total epochs: {epochs}. Total training batches: {len(train_dataset)}' + append)\n",
    "  \n",
    "    model.to(device)\n",
    "    all_train_loss, all_eval_loss = [],[]\n",
    "    for ep in range(epochs): #iterate the desired epochs\n",
    "        tb = time.time()\n",
    "        \n",
    "        print(f'------------------- Epoch {ep} ------------------- ')\n",
    "        train_loss,eval_loss = 0 ,0\n",
    "        \n",
    "        #Perform training of the model\n",
    "        model.train()\n",
    "        for iter,batch in enumerate(train_dataset): #iterate through all batches\n",
    "            t0 = time.time()    \n",
    "            if iter > max_batch: #in case we want to do a batch_subset\n",
    "                break\n",
    "            \n",
    "            feature = batch[0].to(device) #extract relevant values and move to device\n",
    "            attention = batch[1].to(device)\n",
    "            label = batch[2].to(device)\n",
    "            \n",
    "            optimizer.zero_grad() #zero the gradients\n",
    "            loss = model(feature,token_type_ids = None, attention_mask = attention, labels = label)\n",
    "            \n",
    "            train_loss += loss #calculate epoch loss\n",
    "            \n",
    "            loss.backward() #estimate the gradients\n",
    "            optimizer.step() #adjust parameters\n",
    "            \n",
    "            if iter % report_every_n_batches == 0 and not iter ==0: #update output every 10 batches\n",
    "                elapsed_t = round(time.time() - t0,2)\n",
    "                print(f'Batch {iter} done in {elapsed_t} seconds. Total training loss: {np.round(float(train_loss.detach().numpy()),4)}')\n",
    "        \n",
    "        #Perform validation of the model\n",
    "        model.eval()\n",
    "        for iter,batch in enumerate(test_dataset):\n",
    "            \n",
    "            if iter > max_batch: #in case we want to do a batch_subset\n",
    "                break\n",
    "            \n",
    "            feature = batch[0].to(device) #extract relevant values and move to device\n",
    "            attention = batch[1].to(device)\n",
    "            label = batch[2].to(device)\n",
    "            \n",
    "            with torch.no_grad(): #we don't want to estimate gradients when validating\n",
    "                loss = model(feature,token_type_ids = None, attention_mask = attention, labels = label)\n",
    "            \n",
    "            eval_loss += loss\n",
    "            \n",
    "        eval_loss = eval_loss.detach().numpy() #detach from tensors and turn into numpy arrays to plot and calculate\n",
    "        train_loss = train_loss.detach().numpy()\n",
    "                   \n",
    "        all_train_loss.append(train_loss)\n",
    "        all_eval_loss.append(eval_loss) #append losses to visualize across epochs\n",
    "        \n",
    "        t_ep = round(time.time() - tb,2)\n",
    "        print(f'\\nEpoch {ep} done in {t_ep} seconds. Total training loss: {np.round(float(train_loss),4)}, Total validation loss: {np.round(float(eval_loss),4)}')\n",
    "        print(f'Averaged across batches: Training loss: {np.round(train_loss / iter,4)}, Validation loss: {np.round(eval_loss /iter,4)} \\n')\n",
    "      \n",
    "    return all_train_loss,all_eval_loss\n",
    "    "
   ]
  },
  {
   "cell_type": "code",
   "execution_count": 151,
   "metadata": {},
   "outputs": [
    {
     "name": "stdout",
     "output_type": "stream",
     "text": [
      "Begin model Training. Total epochs: 3. Total training batches: 237808. Only doing 3 batches.\n",
      "------------------- Epoch 0 ------------------- \n"
     ]
    },
    {
     "name": "stdout",
     "output_type": "stream",
     "text": [
      "Batch 1 done in 3.83 seconds. Total training loss: 1.5789\n",
      "Batch 2 done in 3.9 seconds. Total training loss: 2.4046\n",
      "Batch 3 done in 3.71 seconds. Total training loss: 3.0641\n",
      "\n",
      "Epoch 0 done in 62.28 seconds. Total training loss: 3.0641, Total validation loss: 3.1567\n",
      "Averaged across batches: Training loss: 0.766, Validation loss: 0.7892 \n",
      "\n",
      "------------------- Epoch 1 ------------------- \n",
      "Batch 1 done in 3.19 seconds. Total training loss: 1.5441\n",
      "Batch 2 done in 3.25 seconds. Total training loss: 2.1684\n",
      "Batch 3 done in 3.42 seconds. Total training loss: 3.0765\n",
      "\n",
      "Epoch 1 done in 16.41 seconds. Total training loss: 3.0765, Total validation loss: 2.626\n",
      "Averaged across batches: Training loss: 0.7691, Validation loss: 0.6565 \n",
      "\n",
      "------------------- Epoch 2 ------------------- \n",
      "Batch 1 done in 3.27 seconds. Total training loss: 1.9153\n",
      "Batch 2 done in 3.27 seconds. Total training loss: 2.6197\n",
      "Batch 3 done in 3.31 seconds. Total training loss: 3.3906\n",
      "\n",
      "Epoch 2 done in 16.5 seconds. Total training loss: 3.3906, Total validation loss: 2.7388\n",
      "Averaged across batches: Training loss: 0.8477, Validation loss: 0.6847 \n",
      "\n"
     ]
    },
    {
     "data": {
      "text/plain": [
       "<matplotlib.legend.Legend at 0x12c325f70>"
      ]
     },
     "execution_count": 151,
     "metadata": {},
     "output_type": "execute_result"
    },
    {
     "data": {
      "image/png": "[encoded data removed]",
      "text/plain": [
       "<Figure size 640x480 with 1 Axes>"
      ]
     },
     "metadata": {},
     "output_type": "display_data"
    }
   ],
   "source": [
    "train_loss,eval_loss = train_loop(this_model,this_optim,train_loader,test_loader,epochs = epochs,report_every_n_batches=  1 , device = 'cpu',max_batch = 3)\n",
    "\n",
    "\n",
    "plt.plot(range(epochs),train_loss,color = 'black',linestyle = 'solid',marker = 'o',label = 'Training Loss')\n",
    "plt.plot(range(epochs),eval_loss,color = 'black',linestyle = 'dashed',marker = 'o',label = 'Validation Loss')\n",
    "plt.legend()"
   ]
  },
  {
   "cell_type": "code",
   "execution_count": null,
   "metadata": {},
   "outputs": [],
   "source": []
  }
 ],
 "metadata": {
  "kernelspec": {
   "display_name": "neuro_match",
   "language": "python",
   "name": "python3"
  },
  "language_info": {
   "codemirror_mode": {
    "name": "ipython",
    "version": 3
   },
   "file_extension": ".py",
   "mimetype": "text/x-python",
   "name": "python",
   "nbconvert_exporter": "python",
   "pygments_lexer": "ipython3",
   "version": "3.9.10"
  },
  "orig_nbformat": 4
 },
 "nbformat": 4,
 "nbformat_minor": 2
}
