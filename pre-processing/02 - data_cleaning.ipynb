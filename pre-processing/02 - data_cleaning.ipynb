{
 "cells": [
  {
   "cell_type": "code",
   "execution_count": 1,
   "metadata": {},
   "outputs": [],
   "source": [
    "import pandas as pd\n",
    "import numpy as np\n",
    "import re\n",
    "import string"
   ]
  },
  {
   "cell_type": "code",
   "execution_count": 5,
   "metadata": {},
   "outputs": [],
   "source": [
    "# Read in the data\n",
    "data = pd.read_csv('../data/joined_dataset.zip')\n",
    "data = data.drop(data.columns[0], axis = 1)"
   ]
  },
  {
   "cell_type": "code",
   "execution_count": 6,
   "metadata": {},
   "outputs": [
    {
     "data": {
      "text/html": [
       "<div>\n",
       "<style scoped>\n",
       "    .dataframe tbody tr th:only-of-type {\n",
       "        vertical-align: middle;\n",
       "    }\n",
       "\n",
       "    .dataframe tbody tr th {\n",
       "        vertical-align: top;\n",
       "    }\n",
       "\n",
       "    .dataframe thead th {\n",
       "        text-align: right;\n",
       "    }\n",
       "</style>\n",
       "<table border=\"1\" class=\"dataframe\">\n",
       "  <thead>\n",
       "    <tr style=\"text-align: right;\">\n",
       "      <th></th>\n",
       "      <th>text</th>\n",
       "      <th>label</th>\n",
       "    </tr>\n",
       "  </thead>\n",
       "  <tbody>\n",
       "    <tr>\n",
       "      <th>15610</th>\n",
       "      <td>know crush typed months months thinking or ove...</td>\n",
       "      <td>0</td>\n",
       "    </tr>\n",
       "    <tr>\n",
       "      <th>82977</th>\n",
       "      <td>Lets play some mimecraft (bedrock pc) Anyone c...</td>\n",
       "      <td>0</td>\n",
       "    </tr>\n",
       "    <tr>\n",
       "      <th>45479</th>\n",
       "      <td>Hi, last few months I have been struggling a l...</td>\n",
       "      <td>1</td>\n",
       "    </tr>\n",
       "    <tr>\n",
       "      <th>131513</th>\n",
       "      <td>Why do you bother?It's not like any of you rea...</td>\n",
       "      <td>1</td>\n",
       "    </tr>\n",
       "    <tr>\n",
       "      <th>93264</th>\n",
       "      <td>I want to dieI want to die so bad but i’m so f...</td>\n",
       "      <td>1</td>\n",
       "    </tr>\n",
       "    <tr>\n",
       "      <th>123571</th>\n",
       "      <td>Just needing some adviceOkay I am 18 years old...</td>\n",
       "      <td>1</td>\n",
       "    </tr>\n",
       "    <tr>\n",
       "      <th>279390</th>\n",
       "      <td>Advice on pans, from a pan We cook stuff\\n\\nWa...</td>\n",
       "      <td>0</td>\n",
       "    </tr>\n",
       "    <tr>\n",
       "      <th>89326</th>\n",
       "      <td>did reddit change it’s downvote button color??...</td>\n",
       "      <td>0</td>\n",
       "    </tr>\n",
       "    <tr>\n",
       "      <th>193404</th>\n",
       "      <td>I'm usually the one helping people, now I'm se...</td>\n",
       "      <td>1</td>\n",
       "    </tr>\n",
       "    <tr>\n",
       "      <th>162876</th>\n",
       "      <td>It's doneTaken 108 pills. All down the hatch. ...</td>\n",
       "      <td>1</td>\n",
       "    </tr>\n",
       "  </tbody>\n",
       "</table>\n",
       "</div>"
      ],
      "text/plain": [
       "                                                     text  label\n",
       "15610   know crush typed months months thinking or ove...      0\n",
       "82977   Lets play some mimecraft (bedrock pc) Anyone c...      0\n",
       "45479   Hi, last few months I have been struggling a l...      1\n",
       "131513  Why do you bother?It's not like any of you rea...      1\n",
       "93264   I want to dieI want to die so bad but i’m so f...      1\n",
       "123571  Just needing some adviceOkay I am 18 years old...      1\n",
       "279390  Advice on pans, from a pan We cook stuff\\n\\nWa...      0\n",
       "89326   did reddit change it’s downvote button color??...      0\n",
       "193404  I'm usually the one helping people, now I'm se...      1\n",
       "162876  It's doneTaken 108 pills. All down the hatch. ...      1"
      ]
     },
     "execution_count": 6,
     "metadata": {},
     "output_type": "execute_result"
    }
   ],
   "source": [
    "data.sample(10)"
   ]
  },
  {
   "cell_type": "markdown",
   "metadata": {},
   "source": [
    "Let's start with lowercasing all text:"
   ]
  },
  {
   "cell_type": "code",
   "execution_count": 8,
   "metadata": {},
   "outputs": [],
   "source": [
    "data['text'] = data['text'].str.lower()"
   ]
  },
  {
   "cell_type": "code",
   "execution_count": null,
   "metadata": {},
   "outputs": [],
   "source": [
    "# Define the regular expression pattern for URLs\n",
    "url_pattern = r'(https?://\\S+)'\n",
    "\n",
    "# Function to extract URLs from text\n",
    "def extract_urls(text):\n",
    "    return re.findall(url_pattern, text)\n",
    "\n",
    "# Apply the function to extract URLs in 'text' column\n",
    "data['urls'] = data['text'].apply(extract_urls)\n",
    "\n",
    "found_urls = False\n",
    "\n",
    "for index, row in data.iterrows():\n",
    "    text = row['text']\n",
    "    urls = re.findall(url_pattern, text)\n",
    "    \n",
    "    if urls:\n",
    "        print(f\"URLs found in row {index + 1}: {urls}\")\n",
    "        found_urls = True\n",
    "\n",
    "if not found_urls:\n",
    "    print(\"No URLs found\")"
   ]
  },
  {
   "cell_type": "code",
   "execution_count": null,
   "metadata": {},
   "outputs": [],
   "source": [
    "# Function to remove URLs\n",
    "def remove_urls(text):\n",
    "    return re.sub(url_pattern, '', text)\n",
    "\n",
    "data['text'] = data['text'].apply(remove_urls)"
   ]
  },
  {
   "cell_type": "code",
   "execution_count": null,
   "metadata": {},
   "outputs": [],
   "source": [
    "# Check for special characters in data frame using regex\n",
    "pattern = r\"[^\\w\\s]\"\n",
    "\n",
    "# Iterate over each row and check for special characters in 'text' variable\n",
    "for index, row in data.iterrows():\n",
    "    text = row['text']\n",
    "    special_characters = re.findall(pattern, text)\n",
    "    \n",
    "    if special_characters:\n",
    "        print(f\"Special characters found in row {index + 1}: {special_characters}\")"
   ]
  },
  {
   "cell_type": "code",
   "execution_count": null,
   "metadata": {},
   "outputs": [],
   "source": [
    "# Function to remove special characters\n",
    "def remove_special_chars(text):\n",
    "    return re.sub(pattern, '', text)\n",
    "\n",
    "data['text'] = data['text'].apply(remove_special_chars)"
   ]
  },
  {
   "cell_type": "code",
   "execution_count": null,
   "metadata": {},
   "outputs": [],
   "source": [
    "# Check if there are punctuation marks in 'text' column\n",
    "for index, row in data.iterrows():\n",
    "    text = row['text']\n",
    "    \n",
    "    if any(char in string.punctuation for char in text):\n",
    "        print(f\"Punctuation marks found in row {index + 1}: {text}\")"
   ]
  },
  {
   "cell_type": "code",
   "execution_count": null,
   "metadata": {},
   "outputs": [],
   "source": [
    "# Function to remove punctuation marks from text\n",
    "def remove_punctuation(text):\n",
    "    return ''.join(char for char in text if char not in string.punctuation)\n",
    "\n",
    "data['text'] = data['text'].apply(remove_punctuation)"
   ]
  },
  {
   "cell_type": "code",
   "execution_count": null,
   "metadata": {},
   "outputs": [],
   "source": [
    "# Confirm URLs, special characters, and punctuation marks were removed\n",
    "found_urls = False\n",
    "found_special_chars = False\n",
    "found_punctuation = False\n",
    "\n",
    "for index, row in data.iterrows():\n",
    "    text = row['text']\n",
    "    special_characters = re.findall(pattern, text)\n",
    "    urls = re.findall(url_pattern, text)\n",
    "\n",
    "    if urls:\n",
    "        print(f\"URLs found in row {index + 1}: {urls}\")\n",
    "        found_urls = True\n",
    "\n",
    "    if special_characters:\n",
    "        print(f\"Special characters found in row {index + 1}: {special_characters}\")\n",
    "        found_special_chars = True\n",
    "\n",
    "    if any(char in string.punctuation for char in text):\n",
    "        print(f\"Punctuation marks found in row {index + 1}: {text}\")\n",
    "        found_punctuation = True\n",
    "\n",
    "# Display confirmation messages\n",
    "if not found_urls:\n",
    "    print(\"No URLs found\")\n",
    "\n",
    "if not found_special_chars:\n",
    "    print(\"No special characters found\")\n",
    "\n",
    "if not found_punctuation:\n",
    "    print(\"No punctuation marks found\")"
   ]
  },
  {
   "cell_type": "code",
   "execution_count": null,
   "metadata": {},
   "outputs": [],
   "source": [
    "data.to_csv('cleandata.csv', index=False)"
   ]
  }
 ],
 "metadata": {
  "kernelspec": {
   "display_name": "Python 3",
   "language": "python",
   "name": "python3"
  },
  "language_info": {
   "codemirror_mode": {
    "name": "ipython",
    "version": 3
   },
   "file_extension": ".py",
   "mimetype": "text/x-python",
   "name": "python",
   "nbconvert_exporter": "python",
   "pygments_lexer": "ipython3",
   "version": "3.11.4"
  },
  "orig_nbformat": 4
 },
 "nbformat": 4,
 "nbformat_minor": 2
}
